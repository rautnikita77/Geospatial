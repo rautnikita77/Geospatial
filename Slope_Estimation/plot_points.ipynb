{
 "cells": [
  {
   "cell_type": "code",
   "execution_count": 1,
   "metadata": {
    "collapsed": true,
    "pycharm": {
     "is_executing": false
    }
   },
   "outputs": [],
   "source": [
    "import os\n",
    "from numpy import genfromtxt\n",
    "# from Slope_Estimation.utils import plot_lat_long_points\n",
    "\n",
    "data = 'data'"
   ]
  },
  {
   "cell_type": "code",
   "execution_count": 2,
   "outputs": [
    {
     "name": "stderr",
     "text": [
      "/Users/anupamtripathi/opt/anaconda3/envs/Geospatial/lib/python3.7/site-packages/ipykernel_launcher.py:1: VisibleDeprecationWarning: Reading unicode strings without specifying the encoding argument is deprecated. Set the encoding, use None for the system default.\n  \"\"\"Entry point for launching an IPython kernel.\n",
      "/Users/anupamtripathi/opt/anaconda3/envs/Geospatial/lib/python3.7/site-packages/ipykernel_launcher.py:2: VisibleDeprecationWarning: Reading unicode strings without specifying the encoding argument is deprecated. Set the encoding, use None for the system default.\n  \n"
     ],
     "output_type": "stream"
    },
    {
     "name": "stdout",
     "text": [
      "(3375745,) (200089,)\n"
     ],
     "output_type": "stream"
    }
   ],
   "source": [
    "probe = genfromtxt(os.path.join(data, 'Partition6467ProbePoints.csv'), delimiter=',', dtype=None)\n",
    "link = genfromtxt(os.path.join(data, 'Partition6467LinkData.csv'), delimiter=',', dtype=None)\n",
    "print(probe.shape, link.shape)\n",
    "# linkPVID, refNodeID, nrefNodeID, length, functionalClass, directionOfTravel, speedCategory, fromRefSpeedLimit, toRefSpeedLimit, fromRefNumLanes, toRefNumLanes, multiDigitized, urban, timeZone, shapeInfo, curvatureInfo, slopeInfo"
   ],
   "metadata": {
    "collapsed": false,
    "pycharm": {
     "name": "#%%\n",
     "is_executing": false
    }
   }
  },
  {
   "cell_type": "code",
   "execution_count": 10,
   "outputs": [],
   "source": [
    "import matplotlib.pyplot as plt\n",
    "\n",
    "def plot_lat_long_points(points):\n",
    "    # for lat, long in points:\n",
    "    print(points)\n",
    "    # plt.plot(points[0], points[-1])\n",
    "    plt.scatter(x=[x[0] for x in points], y=[x[1] for x in points])\n",
    "    plt.show()"
   ],
   "metadata": {
    "collapsed": false,
    "pycharm": {
     "name": "#%%\n",
     "is_executing": false
    }
   }
  },
  {
   "cell_type": "code",
   "execution_count": 11,
   "outputs": [
    {
     "name": "stdout",
     "text": [
      "[[53.07129, 8.80147], [53.0713863, 8.8017389], [53.07148, 8.802]]\n"
     ],
     "output_type": "stream"
    },
    {
     "data": {
      "text/plain": "<Figure size 432x288 with 1 Axes>",
      "image/png": "[encoded data removed]"
     },
     "metadata": {
      "needs_background": "light"
     },
     "output_type": "display_data"
    }
   ],
   "source": [
    "points = str(link[15][-3]).split('|')\n",
    "\n",
    "points = [x.split('/') for x in points]\n",
    "for i in range(len(points)):\n",
    "    points[i] = points[i][:-1]\n",
    "    for j in range(len(points[i])):\n",
    "        try:\n",
    "            points[i][j] = float(points[i][j])\n",
    "        except ValueError:\n",
    "            points[i][j] = float(points[i][j][2:])\n",
    "plot_lat_long_points(points)\n",
    "# plot_lat_long_points(link[5])"
   ],
   "metadata": {
    "collapsed": false,
    "pycharm": {
     "name": "#%%\n",
     "is_executing": false
    }
   }
  },
  {
   "cell_type": "code",
   "execution_count": null,
   "outputs": [],
   "source": [
    "\n"
   ],
   "metadata": {
    "collapsed": false,
    "pycharm": {
     "name": "#%%\n"
    }
   }
  }
 ],
 "metadata": {
  "kernelspec": {
   "display_name": "Python 3",
   "language": "python",
   "name": "python3"
  },
  "language_info": {
   "codemirror_mode": {
    "name": "ipython",
    "version": 2
   },
   "file_extension": ".py",
   "mimetype": "text/x-python",
   "name": "python",
   "nbconvert_exporter": "python",
   "pygments_lexer": "ipython2",
   "version": "2.7.6"
  },
  "pycharm": {
   "stem_cell": {
    "cell_type": "raw",
    "source": [],
    "metadata": {
     "collapsed": false
    }
   }
  }
 },
 "nbformat": 4,
 "nbformat_minor": 0
}