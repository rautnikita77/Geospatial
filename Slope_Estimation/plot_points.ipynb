{
 "cells": [
  {
   "cell_type": "code",
   "execution_count": 1,
   "metadata": {
    "collapsed": true,
    "pycharm": {
     "is_executing": false
    }
   },
   "outputs": [],
   "source": [
    "import os\n",
    "from numpy import genfromtxt\n",
    "# from Slope_Estimation.utils import plot_lat_long_points\n",
    "\n",
    "data = 'data'"
   ]
  },
  {
   "cell_type": "code",
   "execution_count": 2,
   "outputs": [
    {
     "name": "stderr",
     "text": [
      "/Users/anupamtripathi/opt/anaconda3/envs/Geospatial/lib/python3.7/site-packages/ipykernel_launcher.py:1: VisibleDeprecationWarning: Reading unicode strings without specifying the encoding argument is deprecated. Set the encoding, use None for the system default.\n  \"\"\"Entry point for launching an IPython kernel.\n",
      "/Users/anupamtripathi/opt/anaconda3/envs/Geospatial/lib/python3.7/site-packages/ipykernel_launcher.py:2: VisibleDeprecationWarning: Reading unicode strings without specifying the encoding argument is deprecated. Set the encoding, use None for the system default.\n  \n"
     ],
     "output_type": "stream"
    },
    {
     "name": "stdout",
     "text": [
      "(3375745,) (200089,)\n"
     ],
     "output_type": "stream"
    }
   ],
   "source": [
    "probe = genfromtxt(os.path.join(data, 'Partition6467ProbePoints.csv'), delimiter=',', dtype=None)\n",
    "link = genfromtxt(os.path.join(data, 'Partition6467LinkData.csv'), delimiter=',', dtype=None)\n",
    "print(probe.shape, link.shape)\n",
    "# linkPVID, refNodeID, nrefNodeID, length, functionalClass, directionOfTravel, speedCategory, fromRefSpeedLimit, toRefSpeedLimit, fromRefNumLanes, toRefNumLanes, multiDigitized, urban, timeZone, shapeInfo, curvatureInfo, slopeInfo"
   ],
   "metadata": {
    "collapsed": false,
    "pycharm": {
     "name": "#%%\n",
     "is_executing": false
    }
   }
  },
  {
   "cell_type": "code",
   "execution_count": 54,
   "outputs": [],
   "source": [
    "import matplotlib.pyplot as plt\n",
    "\n",
    "def plot_lat_long_points(points):\n",
    "    # for lat, long in points:\n",
    "    print(points)\n",
    "    plt.plot([x[0] for x in points], [x[1] for x in points])\n",
    "    # plt.plot([points[0][0], points[-1][0]], [points[0][1], points[-1][1]])\n",
    "    # plt.xlim(53.0483, 53.0496)\n",
    "    # plt.ylim(8.8160, 8.8193)\n",
    "    # plt.scatter(x=[x[0] for x in points], y=[x[1] for x in points])\n",
    "    plt.show()"
   ],
   "metadata": {
    "collapsed": false,
    "pycharm": {
     "name": "#%%\n",
     "is_executing": false
    }
   }
  },
  {
   "cell_type": "code",
   "execution_count": 55,
   "outputs": [
    {
     "name": "stdout",
     "text": [
      "554728228\n174947832\n174368311\n309.18\n2\nb'F'\n5\n60\n0\n2\n0\nb'T'\nb'T'\n0.0\nb'53.0483800/8.8192099/40.36|53.0485499/8.8186499/40.14|53.0486799/8.8181899/40.42|53.0488664/8.8175143/41.55|53.0489700/8.8171399/42.51|53.0490791/8.8167411/43.56|53.0495500/8.8150200/46.17'\nb'41.98/0.000132|75.99/0.000165|125.74/0.000109|153.31/0.000078|182.64/-0.000004'\nb'0.00/-0.689|41.98/0.116|75.99/0.799|125.74/1.825|153.31/2.081|182.64/1.957|309.18/0.506'\n[[53.04838, 8.8192099], [53.0485499, 8.8186499], [53.0486799, 8.8181899], [53.0488664, 8.8175143], [53.04897, 8.8171399], [53.0490791, 8.8167411], [53.04955, 8.81502]]\n"
     ],
     "output_type": "stream"
    },
    {
     "data": {
      "text/plain": "<Figure size 432x288 with 1 Axes>",
      "image/png": "[encoded data removed]"
     },
     "metadata": {
      "needs_background": "light"
     },
     "output_type": "display_data"
    }
   ],
   "source": [
    "points = str(link[33][-3]).split('|')\n",
    "for x in link[33]:\n",
    "    print(x)\n",
    "\n",
    "points = [x.split('/') for x in points]\n",
    "for i in range(len(points)):\n",
    "    points[i] = points[i][:-1]\n",
    "    for j in range(len(points[i])):\n",
    "        try:\n",
    "            points[i][j] = float(points[i][j])\n",
    "        except ValueError:\n",
    "            points[i][j] = float(points[i][j][2:])\n",
    "plot_lat_long_points(points)\n",
    "# plot_lat_long_points(link[5])"
   ],
   "metadata": {
    "collapsed": false,
    "pycharm": {
     "name": "#%%\n",
     "is_executing": false
    }
   }
  },
  {
   "cell_type": "code",
   "execution_count": null,
   "outputs": [],
   "source": [
    "\n"
   ],
   "metadata": {
    "collapsed": false,
    "pycharm": {
     "name": "#%%\n"
    }
   }
  }
 ],
 "metadata": {
  "kernelspec": {
   "display_name": "Python 3",
   "language": "python",
   "name": "python3"
  },
  "language_info": {
   "codemirror_mode": {
    "name": "ipython",
    "version": 2
   },
   "file_extension": ".py",
   "mimetype": "text/x-python",
   "name": "python",
   "nbconvert_exporter": "python",
   "pygments_lexer": "ipython2",
   "version": "2.7.6"
  },
  "pycharm": {
   "stem_cell": {
    "cell_type": "raw",
    "source": [],
    "metadata": {
     "collapsed": false
    }
   }
  }
 },
 "nbformat": 4,
 "nbformat_minor": 0
}